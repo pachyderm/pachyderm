{
 "cells": [
  {
   "cell_type": "code",
   "execution_count": null,
   "metadata": {
    "collapsed": true
   },
   "outputs": [],
   "source": []
  }
 ],
 "metadata": {
  "kernelspec": {
   "display_name": "Python 3",
   "language": "python",
   "name": "python3"
  },
  "language_info": {
   "codemirror_mode": {
    "name": "ipython",
    "version": 2
   },
   "file_extension": ".py",
   "mimetype": "text/x-python",
   "name": "python",
   "nbconvert_exporter": "python",
   "pygments_lexer": "ipython2",
   "version": "2.7.6"
  },
  "same_config": {
   "apiVersion": "sameproject.ml/v1alpha1",
   "environments": {
    "default": {
     "image_tag": "python:3.11"
    }
   },
   "metadata": {
    "name": "sameless_test",
    "version": "0.0.0"
   },
   "notebook": {
    "requirements": ""
   },
   "run": {
    "input": "{\"pfs\":{\"repo\":\"images\",\"glob\":\"/*\"}}",
    "name": "sameless_test"
   }
  }
 },
 "nbformat": 4,
 "nbformat_minor": 0
}
