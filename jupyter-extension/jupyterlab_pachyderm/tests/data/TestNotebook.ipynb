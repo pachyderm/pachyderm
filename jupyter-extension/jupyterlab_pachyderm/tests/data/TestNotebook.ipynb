{
 "cells": [
  {
   "cell_type": "code",
   "execution_count": null,
   "metadata": {
    "collapsed": true
   },
   "outputs": [],
   "source": [
    "import pip_install_test"
   ]
  }
 ],
 "metadata": {
  "kernelspec": {
   "display_name": "Python 3",
   "language": "python",
   "name": "python3"
  },
  "language_info": {
   "codemirror_mode": {
    "name": "ipython",
    "version": 2
   },
   "file_extension": ".py",
   "mimetype": "text/x-python",
   "name": "python",
   "nbconvert_exporter": "python",
   "pygments_lexer": "ipython2",
   "version": "2.7.6"
  },
  "pachyderm_pps": {
   "version": "v1.0.0",
   "config": {
    "image": "python:3.10",
    "input_spec": "pfs:\n  repo: images\n  glob: \"/*\"",
    "pipeline": {
     "name":"my_pipeline"
    },
    "requirements": "./requirements.txt"
   }
  }
 },
 "nbformat": 4,
 "nbformat_minor": 0
}
