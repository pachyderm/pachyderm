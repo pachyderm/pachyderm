{
 "cells": [
  {
   "cell_type": "markdown",
   "id": "9433c125-8d2e-4d10-ac24-bd7d5134265c",
   "metadata": {},
   "source": [
    "# Intro to Pachyderm Tutorial Header"
   ]
  }
 ],
 "metadata": {
  "kernelspec": {
   "display_name": "Python 3",
   "language": "python",
   "name": "python3"
  },
  "language_info": {
   "codemirror_mode": {
    "name": "ipython",
    "version": 3
   },
   "file_extension": ".py",
   "mimetype": "text/x-python",
   "name": "python",
   "nbconvert_exporter": "python",
   "pygments_lexer": "ipython3",
   "version": "3.8.8"
  }
 },
 "nbformat": 4,
 "nbformat_minor": 5
}
