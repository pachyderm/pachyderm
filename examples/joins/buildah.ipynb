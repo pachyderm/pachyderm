{
 "cells": [
  {
   "cell_type": "code",
   "execution_count": 1,
   "id": "44d8a5df",
   "metadata": {},
   "outputs": [
    {
     "name": "stdout",
     "output_type": "stream",
     "text": [
      "defer.json\t    Dockerfile.notebook  pipelines  returns  Untitled.ipynb\r\n",
      "docker-compose.yml  img\t\t\t purchases  src\r\n",
      "Dockerfile\t    Makefile\t\t README.md  stores\r\n"
     ]
    }
   ],
   "source": [
    "! sudo ls"
   ]
  },
  {
   "cell_type": "code",
   "execution_count": 13,
   "id": "8582fde4",
   "metadata": {},
   "outputs": [
    {
     "name": "stdout",
     "output_type": "stream",
     "text": [
      "8a4effe888410add7e2a85ff05752866e6fd07ad91319a0fcaf7bd3942a8cd81\r\n"
     ]
    }
   ],
   "source": [
    "! sudo buildah bud -q --storage-driver vfs --platform=linux/amd64   ."
   ]
  },
  {
   "cell_type": "code",
   "execution_count": 14,
   "id": "368a4912",
   "metadata": {},
   "outputs": [
    {
     "name": "stdout",
     "output_type": "stream",
     "text": [
      "REPOSITORY                            TAG        IMAGE ID       CREATED          SIZE\r\n",
      "<none>                                <none>     8a4effe88841   21 seconds ago   934 MB\r\n",
      "docker.io/library/python              3          a31efa943659   3 days ago       934 MB\r\n"
     ]
    }
   ],
   "source": [
    "! sudo buildah images  --storage-driver vfs "
   ]
  },
  {
   "cell_type": "code",
   "execution_count": 10,
   "id": "494a47da",
   "metadata": {},
   "outputs": [
    {
     "name": "stdout",
     "output_type": "stream",
     "text": [
      "Login Succeeded!\r\n"
     ]
    }
   ],
   "source": [
    "! sudo buildah login  --password <pass> --username npepin docker.io"
   ]
  },
  {
   "cell_type": "code",
   "execution_count": 15,
   "id": "2d2fa9a1",
   "metadata": {},
   "outputs": [],
   "source": [
    "! sudo buildah push -q --storage-driver vfs  8a4effe888410add7e2a85ff05752866e6fd07ad91319a0fcaf7bd3942a8cd81 docker://docker.io/npepin/example-joins-inner-outer:2.0.0-rc.1 "
   ]
  },
  {
   "cell_type": "code",
   "execution_count": null,
   "id": "da5119e1",
   "metadata": {},
   "outputs": [],
   "source": []
  }
 ],
 "metadata": {
  "kernelspec": {
   "display_name": "Python 3 (ipykernel)",
   "language": "python",
   "name": "python3"
  },
  "language_info": {
   "codemirror_mode": {
    "name": "ipython",
    "version": 3
   },
   "file_extension": ".py",
   "mimetype": "text/x-python",
   "name": "python",
   "nbconvert_exporter": "python",
   "pygments_lexer": "ipython3",
   "version": "3.9.6"
  }
 },
 "nbformat": 4,
 "nbformat_minor": 5
}
